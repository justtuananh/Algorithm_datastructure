{
 "cells": [
  {
   "cell_type": "code",
   "execution_count": 1,
   "id": "01f581c9",
   "metadata": {},
   "outputs": [],
   "source": [
    "#Selection sort \n",
    "def selection(arr, n) :\n",
    "    for i in range (n-1):\n",
    "        min = i\n",
    "        for j in range(i+1, n):\n",
    "            if arr[j] < arr[min]:\n",
    "                min = j\n",
    "        (arr[i], arr[min]) = (arr[min], arr[i])       \n",
    "                    "
   ]
  },
  {
   "cell_type": "code",
   "execution_count": 2,
   "id": "939cd3da",
   "metadata": {},
   "outputs": [],
   "source": [
    "# Python program for implementation of MergeSort\n",
    "def mergeSort(arr):\n",
    "\tif len(arr) > 1:\n",
    "\n",
    "\t\t# Finding the mid of the array\n",
    "\t\tmid = len(arr)//2\n",
    "\n",
    "\t\t# Dividing the array elements\n",
    "\t\tL = arr[:mid]\n",
    "\n",
    "\t\t# into 2 halves\n",
    "\t\tR = arr[mid:]\n",
    "\n",
    "\t\t# Sorting the first half\n",
    "\t\tmergeSort(L)\n",
    "\n",
    "\t\t# Sorting the second half\n",
    "\t\tmergeSort(R)\n",
    "\n",
    "\t\ti = j = k = 0\n",
    "\n",
    "\t\t# Copy data to temp arrays L[] and R[]\n",
    "\t\twhile i < len(L) and j < len(R):\n",
    "\t\t\tif L[i] < R[j]:\n",
    "\t\t\t\tarr[k] = L[i]\n",
    "\t\t\t\ti += 1\n",
    "\t\t\telse:\n",
    "\t\t\t\tarr[k] = R[j]\n",
    "\t\t\t\tj += 1\n",
    "\t\t\tk += 1\n",
    "\n",
    "\t\t# Checking if any element was left\n",
    "\t\twhile i < len(L):\n",
    "\t\t\tarr[k] = L[i]\n",
    "\t\t\ti += 1\n",
    "\t\t\tk += 1\n",
    "\n",
    "\t\twhile j < len(R):\n",
    "\t\t\tarr[k] = R[j]\n",
    "\t\t\tj += 1\n",
    "\t\t\tk += 1\n",
    "\n",
    "\n",
    "\n"
   ]
  },
  {
   "cell_type": "code",
   "execution_count": 3,
   "id": "1d9f7030",
   "metadata": {},
   "outputs": [],
   "source": [
    "#Bubble Sort \n",
    "def bubble(arr):\n",
    "    n = len(arr)\n",
    "    for i in range(n):\n",
    "        #swap = False\n",
    "        for j in range(0,n-i-1):\n",
    "            if arr[j] > arr[j+1]:\n",
    "                (arr[j], arr[j+1]) = (arr[j+1], arr[j])\n",
    "                #swap = True\n",
    "        #if swap ==False :\n",
    "            #break"
   ]
  },
  {
   "cell_type": "code",
   "execution_count": 4,
   "id": "3d2a9d35",
   "metadata": {},
   "outputs": [],
   "source": [
    "#insertion sort\n",
    "def insertion(arr): \n",
    "    #n = len(arr)\n",
    "    #count =0\n",
    "    for i in range (1, n):\n",
    "        v = arr[i]\n",
    "        j = i-1\n",
    "        while (j>=0 and arr[j] >v) :\n",
    "            arr[j+1] = arr[j]\n",
    "            j =j-1\n",
    "            #count +=1\n",
    "        arr[j+1] =v\n",
    "    #print(count)   "
   ]
  },
  {
   "cell_type": "code",
   "execution_count": 5,
   "id": "70d18493",
   "metadata": {},
   "outputs": [
    {
     "name": "stdout",
     "output_type": "stream",
     "text": [
      "[-2.24272616 -1.76871227 -1.54232058 -1.08197754 -1.06327955 -0.93763011\n",
      " -0.77590177 -0.76901191 -0.62755991 -0.46405378 -0.45172903 -0.38845408\n",
      " -0.31920909 -0.27845672 -0.27663944 -0.1297918  -0.08146523 -0.04552551\n",
      "  0.02095184  0.08047943  0.10318197  0.18764167  0.24599095  0.30114055\n",
      "  0.30381701  0.35335291  0.4628625   0.46309159  0.67869873  0.88193436\n",
      "  0.93982134  0.94138712  1.25848825  1.26122203  1.31119746  1.37634433\n",
      "  1.48505137  1.52482704  1.83102682  2.37296267]\n"
     ]
    }
   ],
   "source": [
    "def partition(l, r, nums):\n",
    "    # Last element will be the pivot and the first element the pointer\n",
    "    pivot, ptr = nums[r], l\n",
    "    for i in range(l, r):\n",
    "        if nums[i] <= pivot:\n",
    "            # Swapping values smaller than the pivot to the front\n",
    "            nums[i], nums[ptr] = nums[ptr], nums[i]\n",
    "            ptr += 1\n",
    "    # Finally swapping the last element with the pointer indexed number\n",
    "    nums[ptr], nums[r] = nums[r], nums[ptr]\n",
    "    return ptr\n",
    " \n",
    "# With quicksort() function, we will be utilizing the above code to obtain the pointer\n",
    "# at which the left values are all smaller than the number at pointer index and vice versa\n",
    "# for the right values.\n",
    " \n",
    " \n",
    "def quicksort(l, r, nums):\n",
    "    if len(nums) == 1:  # Terminating Condition for recursion. VERY IMPORTANT!\n",
    "        return nums\n",
    "    if l < r:\n",
    "        pi = partition(l, r, nums)\n",
    "        quicksort(l, pi-1, nums)  # Recursively sorting the left values\n",
    "        quicksort(pi+1, r, nums)  # Recursively sorting the right values\n",
    "    return nums\n",
    " \n",
    " \n",
    "import numpy as np \n",
    "arr = np.random.standard_normal(40)\n",
    "print(quicksort(0, len(arr)-1, arr))"
   ]
  },
  {
   "cell_type": "code",
   "execution_count": 6,
   "id": "67a32986",
   "metadata": {},
   "outputs": [
    {
     "name": "stdout",
     "output_type": "stream",
     "text": [
      "Requirement already satisfied: pandas in e:\\tài liệu\\học kì 1 năm 4\\phân tích và thiết kế thuật toán\\thực hành\\algorithm\\lib\\site-packages (1.4.4)\n",
      "Requirement already satisfied: pytz>=2020.1 in e:\\tài liệu\\học kì 1 năm 4\\phân tích và thiết kế thuật toán\\thực hành\\algorithm\\lib\\site-packages (from pandas) (2022.2.1)\n",
      "Requirement already satisfied: python-dateutil>=2.8.1 in e:\\tài liệu\\học kì 1 năm 4\\phân tích và thiết kế thuật toán\\thực hành\\algorithm\\lib\\site-packages (from pandas) (2.8.2)\n",
      "Requirement already satisfied: numpy>=1.21.0 in e:\\tài liệu\\học kì 1 năm 4\\phân tích và thiết kế thuật toán\\thực hành\\algorithm\\lib\\site-packages (from pandas) (1.23.3)\n",
      "Requirement already satisfied: six>=1.5 in e:\\tài liệu\\học kì 1 năm 4\\phân tích và thiết kế thuật toán\\thực hành\\algorithm\\lib\\site-packages (from python-dateutil>=2.8.1->pandas) (1.16.0)\n",
      "Requirement already satisfied: numpy in e:\\tài liệu\\học kì 1 năm 4\\phân tích và thiết kế thuật toán\\thực hành\\algorithm\\lib\\site-packages (1.23.3)\n"
     ]
    }
   ],
   "source": [
    "!pip install pandas\n",
    "!pip install numpy "
   ]
  },
  {
   "cell_type": "code",
   "execution_count": 7,
   "id": "92820b2e",
   "metadata": {},
   "outputs": [],
   "source": [
    "#import library\n",
    "import pandas as pd \n",
    "import statistics\n",
    "import time"
   ]
  },
  {
   "cell_type": "code",
   "execution_count": 8,
   "id": "b60b8d40",
   "metadata": {},
   "outputs": [],
   "source": [
    "#method to calculate the element of time : mean time and std_times\n",
    "def tol_time(l, start_index, end_index):\n",
    "  total = 0\n",
    "  for val in (l[start_index: end_index]):\n",
    "    total = (total + val)\n",
    "  std_times  =statistics.stdev(l[start_index: end_index])\n",
    "  return round(total/50,5) ,round(std_times,5)"
   ]
  },
  {
   "cell_type": "code",
   "execution_count": 9,
   "id": "0e27e473",
   "metadata": {},
   "outputs": [],
   "source": [
    "n_size = [10,100,1000,10000,100000]"
   ]
  },
  {
   "cell_type": "code",
   "execution_count": 10,
   "id": "0543835e",
   "metadata": {},
   "outputs": [],
   "source": [
    "import time\n",
    "import numpy as np \n",
    "mergeSort_time = []\n",
    "for n in([10,100,1000]): #for n in(n_size):\n",
    "    \n",
    "    for i in range(0, 50) :\n",
    "        start_time = time.time()\n",
    "        arr = np.random.randint(10000, size = n)\n",
    "        arr1 =np.random.standard_normal(n)\n",
    "        mergeSort(arr1)\n",
    "        end_time = time.time()            \n",
    "        mergeSort_time.append(end_time - start_time)"
   ]
  },
  {
   "cell_type": "code",
   "execution_count": 11,
   "id": "bd21b745",
   "metadata": {
    "collapsed": true
   },
   "outputs": [],
   "source": [
    "#insertion_time calculations\n",
    "insertion_time = []\n",
    "for n in([10,100,1000]): #for n in(n_size):\n",
    "    \n",
    "    for i in range(0, 50) :\n",
    "        start_time = time.time()\n",
    "        arr = np.random.randint(10000, size = n)\n",
    "        arr1 =np.random.standard_normal(n)\n",
    "        insertion(arr1)\n",
    "        end_time = time.time()            \n",
    "        insertion_time.append(end_time - start_time)\n",
    "#print(insertion_time)"
   ]
  },
  {
   "cell_type": "code",
   "execution_count": 12,
   "id": "fb4a6aeb",
   "metadata": {},
   "outputs": [],
   "source": [
    "#time calculations for insertion sort\n",
    "\n",
    "#n_size =10\n",
    "ins_time1 = tol_time(mergeSort_time, 0,50)\n",
    "ins_time1 = \" +/- \".join([i for i in map(str, ins_time1)])\n",
    "\n",
    "#n_size =100\n",
    "ins_time2 = tol_time(mergeSort_time,51,100)\n",
    "ins_time2 = \" +/- \".join([i for i in map(str, ins_time2)])\n",
    "\n",
    "#n_size = 1000\n",
    "ins_time3=tol_time(mergeSort_time,101,150)\n",
    "ins_time3 = \" +/- \".join([i for i in map(str, ins_time3)])\n",
    "\n",
    "\n",
    "#write into a list with round to 5 number\n",
    "Merge = []\n",
    "Merge.extend((ins_time1, ins_time2, ins_time3))\n",
    "\n"
   ]
  },
  {
   "cell_type": "code",
   "execution_count": 13,
   "id": "f6e900b2",
   "metadata": {},
   "outputs": [],
   "source": [
    "#time calculations for insertion sort\n",
    "\n",
    "#n_size =10\n",
    "ins_time1 = tol_time(insertion_time, 0,50)\n",
    "ins_time1 = \" +/- \".join([i for i in map(str, ins_time1)])\n",
    "\n",
    "#n_size =100\n",
    "ins_time2 = tol_time(insertion_time,51,100)\n",
    "ins_time2 = \" +/- \".join([i for i in map(str, ins_time2)])\n",
    "\n",
    "n_size = 1000\n",
    "ins_time3=tol_time(insertion_time,101,150)\n",
    "ins_time3 = \" +/- \".join([i for i in map(str, ins_time3)])\n",
    "\n",
    "#write into a list with round to 5 number\n",
    "Insertion = []\n",
    "Insertion.extend((ins_time1, ins_time2, ins_time3))"
   ]
  },
  {
   "cell_type": "code",
   "execution_count": 14,
   "id": "8e79fb44",
   "metadata": {},
   "outputs": [],
   "source": [
    "#selection_time calculations\n",
    "selection_time = []\n",
    "for n in([10,100,1000]):\n",
    "    \n",
    "    for i in range(0, 50) :\n",
    "        start_time = time.time()\n",
    "        arr = np.random.randint(10000, size = n)\n",
    "        arr1 =np.random.standard_normal(n)\n",
    "        selection(arr1,n)\n",
    "        end_time = time.time()            \n",
    "        selection_time.append(end_time - start_time)\n",
    "#print(selection_time)"
   ]
  },
  {
   "cell_type": "code",
   "execution_count": 15,
   "id": "c4c16448",
   "metadata": {},
   "outputs": [],
   "source": [
    "#time calculations for Selection sort\n",
    "\n",
    "#n_size =10\n",
    "sel_time1 = tol_time(selection_time, 0,50)\n",
    "sel_time1 = \" +/- \".join([i for i in map(str, sel_time1)])\n",
    "\n",
    "#n_size =100\n",
    "sel_time2 = tol_time(selection_time,51,100)\n",
    "sel_time2 = \" +/- \".join([i for i in map(str, sel_time2)])\n",
    "\n",
    "n_size = 1000\n",
    "sel_time3=tol_time(selection_time,101,150)\n",
    "sel_time3 = \" +/- \".join([i for i in map(str, sel_time3)])\n",
    "\n",
    "#write into a list with round to 5 number\n",
    "Selection = []\n",
    "Selection.extend((sel_time1, sel_time2, sel_time3))"
   ]
  },
  {
   "cell_type": "code",
   "execution_count": 16,
   "id": "bd8fdb3e",
   "metadata": {},
   "outputs": [],
   "source": [
    "#bubble sort_time calculations\n",
    "bubble_time = []\n",
    "for n in([10,100,1000]):\n",
    "    \n",
    "    for i in range(0, 50) :\n",
    "        start_time = time.time()\n",
    "        arr = np.random.randint(10000, size = n)\n",
    "        arr1 =np.random.standard_normal(n)\n",
    "        bubble(arr1)\n",
    "        end_time = time.time()            \n",
    "        bubble_time.append(end_time - start_time)\n",
    "#print(bubble_time)"
   ]
  },
  {
   "cell_type": "code",
   "execution_count": 17,
   "id": "0e764e30",
   "metadata": {},
   "outputs": [],
   "source": [
    "#time calculations for insertion sort\n",
    "\n",
    "#n_size =10\n",
    "bub_time1 = tol_time(bubble_time, 0,50)\n",
    "bub_time1 = \" +/- \".join([i for i in map(str, bub_time1)])\n",
    "\n",
    "#n_size =100\n",
    "bub_time2 = tol_time(bubble_time,51,100)\n",
    "bub_time2 = \" +/- \".join([i for i in map(str, bub_time2)])\n",
    "\n",
    "n_size = 1000\n",
    "bub_time3 = tol_time(insertion_time,101,150)\n",
    "bub_time3 = \" +/- \".join([i for i in map(str, bub_time3)])\n",
    "\n",
    "#write into a list with round to 5 number\n",
    "Bubble = []\n",
    "Bubble.extend((bub_time1, bub_time2, bub_time3))"
   ]
  },
  {
   "cell_type": "code",
   "execution_count": 18,
   "id": "5f27b0a0",
   "metadata": {},
   "outputs": [],
   "source": [
    "#quick sort_time calculations\n",
    "quick_time = []\n",
    "for n in([10,100,1000]):\n",
    "    \n",
    "    for i in range(0, 50) :\n",
    "        start_time = time.time()\n",
    "        arr = np.random.randint(10000, size = n)\n",
    "        arr1 =np.random.standard_normal(n)\n",
    "        quicksort(0, len(arr1)-1, arr1)\n",
    "        end_time = time.time()            \n",
    "        quick_time.append(end_time - start_time)\n",
    "#print(quick_time)"
   ]
  },
  {
   "cell_type": "code",
   "execution_count": 19,
   "id": "e6455511",
   "metadata": {},
   "outputs": [],
   "source": [
    "#time calculations for Quick sort\n",
    "\n",
    "#n_size =10\n",
    "quick_time1 = tol_time(quick_time, 0,50)\n",
    "quick_time1 = \" +/- \".join([i for i in map(str, quick_time1)])\n",
    "\n",
    "#n_size =100\n",
    "quick_time2 = tol_time(quick_time,51,100)\n",
    "quick_time2 = \" +/- \".join([i for i in map(str, quick_time2)])\n",
    "\n",
    "n_size = 1000\n",
    "quick_time3 = tol_time(quick_time,101,150)\n",
    "quick_time3 = \" +/- \".join([i for i in map(str, quick_time3)])\n",
    "\n",
    "#write into a list with round to 5 number\n",
    "Quick = []\n",
    "Quick.extend((quick_time1, quick_time2,quick_time3))"
   ]
  },
  {
   "cell_type": "code",
   "execution_count": 20,
   "id": "3f548940",
   "metadata": {},
   "outputs": [],
   "source": [
    "\n",
    "n_size = [10, 100, 1000]\n",
    "no_runs = [50, 50,50]\n",
    "\n",
    "data = {'n_size' : n_size, 'no_runs' : no_runs, 'Selection' :Selection  , 'Bubble' :Bubble , 'Insertion' : Insertion ,'Quick' : Quick, 'Merge': Merge}"
   ]
  },
  {
   "cell_type": "code",
   "execution_count": 21,
   "id": "4ab2a54a",
   "metadata": {},
   "outputs": [
    {
     "data": {
      "text/html": [
       "<div>\n",
       "<style scoped>\n",
       "    .dataframe tbody tr th:only-of-type {\n",
       "        vertical-align: middle;\n",
       "    }\n",
       "\n",
       "    .dataframe tbody tr th {\n",
       "        vertical-align: top;\n",
       "    }\n",
       "\n",
       "    .dataframe thead th {\n",
       "        text-align: right;\n",
       "    }\n",
       "</style>\n",
       "<table border=\"1\" class=\"dataframe\">\n",
       "  <thead>\n",
       "    <tr style=\"text-align: right;\">\n",
       "      <th></th>\n",
       "      <th>n_size</th>\n",
       "      <th>no_runs</th>\n",
       "      <th>Selection</th>\n",
       "      <th>Bubble</th>\n",
       "      <th>Insertion</th>\n",
       "      <th>Quick</th>\n",
       "      <th>Merge</th>\n",
       "    </tr>\n",
       "  </thead>\n",
       "  <tbody>\n",
       "    <tr>\n",
       "      <th>0</th>\n",
       "      <td>10</td>\n",
       "      <td>50</td>\n",
       "      <td>2e-05 +/- 0.00014</td>\n",
       "      <td>2e-05 +/- 0.00014</td>\n",
       "      <td>2e-05 +/- 0.00014</td>\n",
       "      <td>4e-05 +/- 0.0002</td>\n",
       "      <td>8e-05 +/- 0.00034</td>\n",
       "    </tr>\n",
       "    <tr>\n",
       "      <th>1</th>\n",
       "      <td>100</td>\n",
       "      <td>50</td>\n",
       "      <td>0.00078 +/- 0.00045</td>\n",
       "      <td>0.00152 +/- 0.0005</td>\n",
       "      <td>0.00059 +/- 0.0005</td>\n",
       "      <td>0.0002 +/- 0.00041</td>\n",
       "      <td>0.0003 +/- 0.00046</td>\n",
       "    </tr>\n",
       "    <tr>\n",
       "      <th>2</th>\n",
       "      <td>1000</td>\n",
       "      <td>50</td>\n",
       "      <td>0.07697 +/- 0.00297</td>\n",
       "      <td>0.06089 +/- 0.00787</td>\n",
       "      <td>0.06089 +/- 0.00787</td>\n",
       "      <td>0.00289 +/- 0.00037</td>\n",
       "      <td>0.00364 +/- 0.00052</td>\n",
       "    </tr>\n",
       "  </tbody>\n",
       "</table>\n",
       "</div>"
      ],
      "text/plain": [
       "   n_size  no_runs            Selection               Bubble  \\\n",
       "0      10       50    2e-05 +/- 0.00014    2e-05 +/- 0.00014   \n",
       "1     100       50  0.00078 +/- 0.00045   0.00152 +/- 0.0005   \n",
       "2    1000       50  0.07697 +/- 0.00297  0.06089 +/- 0.00787   \n",
       "\n",
       "             Insertion                Quick                Merge  \n",
       "0    2e-05 +/- 0.00014     4e-05 +/- 0.0002    8e-05 +/- 0.00034  \n",
       "1   0.00059 +/- 0.0005   0.0002 +/- 0.00041   0.0003 +/- 0.00046  \n",
       "2  0.06089 +/- 0.00787  0.00289 +/- 0.00037  0.00364 +/- 0.00052  "
      ]
     },
     "execution_count": 21,
     "metadata": {},
     "output_type": "execute_result"
    }
   ],
   "source": [
    "table =pd.DataFrame(data)\n",
    "table"
   ]
  }
 ],
 "metadata": {
  "kernelspec": {
   "display_name": "Python 3.10.7 ('algorithm': venv)",
   "language": "python",
   "name": "python3"
  },
  "language_info": {
   "codemirror_mode": {
    "name": "ipython",
    "version": 3
   },
   "file_extension": ".py",
   "mimetype": "text/x-python",
   "name": "python",
   "nbconvert_exporter": "python",
   "pygments_lexer": "ipython3",
   "version": "3.10.7"
  },
  "vscode": {
   "interpreter": {
    "hash": "db25b2998812f6e1f9bd0e1e570c275449dca291153e963c3b2d4bb3b5971da1"
   }
  }
 },
 "nbformat": 4,
 "nbformat_minor": 5
}
