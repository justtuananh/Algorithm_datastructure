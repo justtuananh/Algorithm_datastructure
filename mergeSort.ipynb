{
 "cells": [
  {
   "cell_type": "code",
   "execution_count": 2,
   "metadata": {},
   "outputs": [],
   "source": [
    "# Python program for implementation of MergeSort\n",
    "def mergeSort(arr):\n",
    "\tif len(arr) > 1:\n",
    "\n",
    "\t\t# Finding the mid of the array\n",
    "\t\tmid = len(arr)//2\n",
    "\n",
    "\t\t# Dividing the array elements\n",
    "\t\tL = arr[:mid]\n",
    "\n",
    "\t\t# into 2 halves\n",
    "\t\tR = arr[mid:]\n",
    "\n",
    "\t\t# Sorting the first half\n",
    "\t\tmergeSort(L)\n",
    "\n",
    "\t\t# Sorting the second half\n",
    "\t\tmergeSort(R)\n",
    "\n",
    "\t\ti = j = k = 0\n",
    "\n",
    "\t\t# Copy data to temp arrays L[] and R[]\n",
    "\t\twhile i < len(L) and j < len(R):\n",
    "\t\t\tif L[i] < R[j]:\n",
    "\t\t\t\tarr[k] = L[i]\n",
    "\t\t\t\ti += 1\n",
    "\t\t\telse:\n",
    "\t\t\t\tarr[k] = R[j]\n",
    "\t\t\t\tj += 1\n",
    "\t\t\tk += 1\n",
    "\n",
    "\t\t# Checking if any element was left\n",
    "\t\twhile i < len(L):\n",
    "\t\t\tarr[k] = L[i]\n",
    "\t\t\ti += 1\n",
    "\t\t\tk += 1\n",
    "\n",
    "\t\twhile j < len(R):\n",
    "\t\t\tarr[k] = R[j]\n",
    "\t\t\tj += 1\n",
    "\t\t\tk += 1\n",
    "\n",
    "\n",
    "\n"
   ]
  },
  {
   "cell_type": "code",
   "execution_count": 3,
   "metadata": {},
   "outputs": [],
   "source": [
    "import statistics\n",
    "def tol_time(l, start_index, end_index):\n",
    "  total = 0\n",
    "  for val in (l[start_index: end_index]):\n",
    "    total = (total + val)\n",
    "  std_times  =statistics.stdev(l[start_index: end_index])\n",
    "  return round(total/50,5) ,round(std_times,5)"
   ]
  },
  {
   "cell_type": "code",
   "execution_count": 4,
   "metadata": {},
   "outputs": [
    {
     "name": "stdout",
     "output_type": "stream",
     "text": [
      "Requirement already satisfied: numpy in e:\\tài liệu\\học kì 1 năm 4\\phân tích và thiết kế thuật toán\\thực hành\\algorithm\\lib\\site-packages (1.23.3)\n"
     ]
    }
   ],
   "source": [
    "!pip install numpy"
   ]
  },
  {
   "cell_type": "code",
   "execution_count": 5,
   "metadata": {},
   "outputs": [],
   "source": [
    "import time\n",
    "import numpy as np \n",
    "mergeSort_time = []\n",
    "for n in([10,100,1000]): #for n in(n_size):\n",
    "    \n",
    "    for i in range(0, 50) :\n",
    "        start_time = time.time()\n",
    "        arr = np.random.randint(10000, size = n)\n",
    "        mergeSort(arr)\n",
    "        end_time = time.time()            \n",
    "        mergeSort_time.append(end_time - start_time)"
   ]
  },
  {
   "cell_type": "code",
   "execution_count": 7,
   "metadata": {},
   "outputs": [
    {
     "name": "stdout",
     "output_type": "stream",
     "text": [
      "['2e-05 +/- 0.00014', '0.00028 +/- 0.00046', '0.00378 +/- 0.00041']\n"
     ]
    }
   ],
   "source": [
    "#time calculations for insertion sort\n",
    "\n",
    "#n_size =10\n",
    "ins_time1 = tol_time(mergeSort_time, 0,50)\n",
    "ins_time1 = \" +/- \".join([i for i in map(str, ins_time1)])\n",
    "\n",
    "#n_size =100\n",
    "ins_time2 = tol_time(mergeSort_time,51,100)\n",
    "ins_time2 = \" +/- \".join([i for i in map(str, ins_time2)])\n",
    "\n",
    "#n_size = 1000\n",
    "ins_time3=tol_time(mergeSort_time,101,150)\n",
    "ins_time3 = \" +/- \".join([i for i in map(str, ins_time3)])\n",
    "\n",
    "\n",
    "#write into a list with round to 5 number\n",
    "Merge = []\n",
    "Merge.extend((ins_time1, ins_time2, ins_time3))\n",
    "\n",
    "print(Merge)"
   ]
  }
 ],
 "metadata": {
  "kernelspec": {
   "display_name": "Python 3.10.7 ('algorithm': venv)",
   "language": "python",
   "name": "python3"
  },
  "language_info": {
   "codemirror_mode": {
    "name": "ipython",
    "version": 3
   },
   "file_extension": ".py",
   "mimetype": "text/x-python",
   "name": "python",
   "nbconvert_exporter": "python",
   "pygments_lexer": "ipython3",
   "version": "3.10.7"
  },
  "orig_nbformat": 4,
  "vscode": {
   "interpreter": {
    "hash": "db25b2998812f6e1f9bd0e1e570c275449dca291153e963c3b2d4bb3b5971da1"
   }
  }
 },
 "nbformat": 4,
 "nbformat_minor": 2
}
