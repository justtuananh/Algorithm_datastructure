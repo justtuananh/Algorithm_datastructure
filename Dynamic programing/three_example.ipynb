{
 "cells": [
  {
   "cell_type": "markdown",
   "metadata": {},
   "source": [
    "## Coin Change"
   ]
  },
  {
   "cell_type": "code",
   "execution_count": 33,
   "metadata": {},
   "outputs": [],
   "source": [
    "def coinChange( coins, amount) -> int:\n",
    "    m = len(coins)\n",
    "    dp = [-1] * (amount + 1) # khởi tạo mảng toàn amount + 1 phần từ (-1) \n",
    "    dp[0] = 0\n",
    "    coins = sorted(coins) # không cần thiết lắm vì đầu bài yêu cầu rồi \n",
    "    for i in range(1, m + 1):\n",
    "        for j in range(coins[i - 1], amount + 1):\n",
    "            if j == coins[i - 1]:\n",
    "                dp[j] = 1\n",
    "            elif dp[j - coins[i - 1]] != -1:\n",
    "                if dp[j] == -1:\n",
    "                    dp[j] = dp[j - coins[i - 1]] + 1\n",
    "                else:\n",
    "                    dp[j] = min(dp[j], dp[j - coins[i - 1]] + 1)\n",
    "    return dp[amount]"
   ]
  },
  {
   "cell_type": "code",
   "execution_count": 40,
   "metadata": {},
   "outputs": [
    {
     "name": "stdout",
     "output_type": "stream",
     "text": [
      "2\n"
     ]
    }
   ],
   "source": [
    "coins = [1,2,3,4,5,6]\n",
    "sum = 12\n",
    "print(coinChange(coins, sum))\n"
   ]
  },
  {
   "cell_type": "markdown",
   "metadata": {},
   "source": [
    "## Coin row"
   ]
  },
  {
   "cell_type": "code",
   "execution_count": 35,
   "metadata": {},
   "outputs": [],
   "source": [
    "def CoinRow(arr, n):\n",
    "    F = []\n",
    "    F.append(0)\n",
    "    F.append(arr[0])\n",
    "    for i in range(2,n):\n",
    "        x = max(arr[i] + F[i-2],F[i-1])\n",
    "        F.append(x)\n",
    "    return F[len(F)-1]"
   ]
  },
  {
   "cell_type": "code",
   "execution_count": 36,
   "metadata": {},
   "outputs": [
    {
     "name": "stdout",
     "output_type": "stream",
     "text": [
      "17\n"
     ]
    }
   ],
   "source": [
    "arr = [5,1,2,10,6,2]\n",
    "n = len(arr)\n",
    "x = CoinRow(arr,n)\n",
    "print (x)"
   ]
  },
  {
   "cell_type": "markdown",
   "metadata": {},
   "source": [
    "## Coin Collection\n"
   ]
  },
  {
   "cell_type": "code",
   "execution_count": 42,
   "metadata": {},
   "outputs": [
    {
     "name": "stdout",
     "output_type": "stream",
     "text": [
      "Enter row :\n",
      "Enter column :\n",
      "Board Initialized :\n",
      "[0, 1, 1, 0, 0, 0]\n",
      "[0, 1, 0, 0, 1, 0]\n",
      "[1, 1, 1, 0, 1, 1]\n",
      "\n",
      "Max coin picked :\n",
      "[0, 1, 2, 2, 2, 2]\n",
      "[0, 2, 2, 2, 3, 3]\n",
      "[1, 3, 4, 4, 5, 6]\n",
      "6\n",
      "path in stars: \n",
      "['*', '*', 2, 2, 2, 2]\n",
      "[0, '*', 2, 2, 3, 3]\n",
      "[1, '*', '*', '*', '*', '*']\n"
     ]
    }
   ],
   "source": [
    "import random\n",
    "\n",
    "\n",
    "class CoinCollecting:\n",
    "\n",
    "    # initializing 3 attributes for the game\n",
    "    def __init__(self, row, column):\n",
    "        self.row = row\n",
    "        self.column = column\n",
    "        # constructing empty game board\n",
    "        self.gameBoard = [[0] * self.column for i in range(self.row)]  \n",
    "\n",
    "    # initialize the game board with random values\n",
    "    def initialize_TheBoard(self):\n",
    "        numOfCells = self.row * self.column\n",
    "        random_List = random.sample(range(1, numOfCells + 1), int(numOfCells / 2))\n",
    "        # The relationship between number of matrix cell and its row & column\n",
    "        for i in random_List:\n",
    "            row = int(i / self.column)  # 5\n",
    "            if i % self.column == 0:\n",
    "                row = row - 1\n",
    "            column = i - row * self.column - 1\n",
    "            self.gameBoard[row][column] = 1\n",
    "\n",
    "        # printing the game board\n",
    "        for i in range(self.row):  # 5 rows\n",
    "            print(self.gameBoard[i])\n",
    "        print()\n",
    "    def max_coin_picked(self):\n",
    "\n",
    "        # this algorithm follows the dynamic programing principle\n",
    "        # for the coin_collecting problem\n",
    "        for i in range(self.row):  # 5 rows\n",
    "            for j in range(self.column):  # 6 column\n",
    "                if i == 0 and j == 0:\n",
    "                    self.gameBoard[i][j] = 0 + self.gameBoard[i][j]\n",
    "                elif i == 0:\n",
    "                    self.gameBoard[i][j] = max(0, self.gameBoard[i][j - 1]) + self.gameBoard[i][j]\n",
    "                elif j == 0:\n",
    "                    self.gameBoard[i][j] = max(self.gameBoard[i - 1][j], 0) + self.gameBoard[i][j]\n",
    "                else:\n",
    "                    self.gameBoard[i][j] = max(self.gameBoard[i - 1][j], self.gameBoard[i][j - 1]) + self.gameBoard[i][\n",
    "                        j]\n",
    "            # printing max_coin_picked algorithm steps\n",
    "            print(self.gameBoard[i])\n",
    "\n",
    "        # getting the maximum value picked from the initialized values\n",
    "        maxCoinPicked = self.gameBoard[self.row - 1][self.column - 1]\n",
    "        return maxCoinPicked\n",
    "\n",
    "    def path(self):\n",
    "\n",
    "        # to accessing the values in the board in reverse mode\n",
    "        row = self.row - 1  # 4\n",
    "        column = self.column - 1  # 5\n",
    "\n",
    "        # playing the first and last values in the board\n",
    "        self.gameBoard[row][column] = '*'\n",
    "\n",
    "        # finish when i=1 as first rew already assigned\n",
    "        while row >= 1:\n",
    "            if column != 0 and (self.gameBoard[row][column - 1] > self.gameBoard[row - 1][column]):  # leftward\n",
    "                # moving to the left\n",
    "                self.gameBoard[row][column - 1] = '*'\n",
    "                column = column - 1\n",
    "            else:\n",
    "                # moving to the up\n",
    "                self.gameBoard[row - 1][column] = '*'  # upward\n",
    "                row = row - 1\n",
    "\n",
    "        # the remaining cells path of the first row\n",
    "        column = column - 1\n",
    "        while column >= 0:\n",
    "            self.gameBoard[0][column] = '*'\n",
    "            column = column - 1\n",
    "\n",
    "        return self.gameBoard\n",
    "\n",
    "    \n",
    "    \n",
    "\n",
    "def test(bool):\n",
    "    if True :\n",
    "        print(\"Enter row :\")\n",
    "        row = int(input())  \n",
    "        print(\"Enter column :\")\n",
    "        column = int(input())\n",
    "        A = CoinCollecting(row,column)\n",
    "        print(\"Board Initialized :\")\n",
    "        A.initialize_TheBoard()\n",
    "        print(\"Max coin picked :\")\n",
    "        print(A.max_coin_picked())\n",
    "        # getting path in stars\n",
    "        print(\"path in stars: \")\n",
    "        robotPath = A.path()\n",
    "\n",
    "        for i in range(row):\n",
    "            print(robotPath[i])\n",
    "        return\n",
    "\n",
    "test(True)"
   ]
  }
 ],
 "metadata": {
  "kernelspec": {
   "display_name": "Python 3.10.7 ('algorithm': venv)",
   "language": "python",
   "name": "python3"
  },
  "language_info": {
   "codemirror_mode": {
    "name": "ipython",
    "version": 3
   },
   "file_extension": ".py",
   "mimetype": "text/x-python",
   "name": "python",
   "nbconvert_exporter": "python",
   "pygments_lexer": "ipython3",
   "version": "3.10.7"
  },
  "orig_nbformat": 4,
  "vscode": {
   "interpreter": {
    "hash": "db25b2998812f6e1f9bd0e1e570c275449dca291153e963c3b2d4bb3b5971da1"
   }
  }
 },
 "nbformat": 4,
 "nbformat_minor": 2
}
