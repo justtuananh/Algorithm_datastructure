{
 "cells": [
  {
   "cell_type": "code",
   "execution_count": 5,
   "metadata": {},
   "outputs": [],
   "source": [
    "def knapSack(W, wt, val, n):\n",
    "\tdp = [0 for i in range(W+1)] # Tạo mảng toàn số 0 \n",
    "\n",
    "\tfor i in range(1, n+1): # taking first i elements\n",
    "\t\tfor w in range(W, 0, -1): # starting from back,so that we also have data of\n",
    "\t\t\t\t\t\t\t\t# previous computation when taking i-1 items\n",
    "\t\t\tif wt[i-1] <= w:\n",
    "\t\t\t\t# finding the maximum value\n",
    "\t\t\t\tdp[w] = max(dp[w], dp[w-wt[i-1]]+val[i-1])\n",
    "\n",
    "\treturn dp[W]\n"
   ]
  },
  {
   "cell_type": "code",
   "execution_count": 7,
   "metadata": {},
   "outputs": [
    {
     "name": "stdout",
     "output_type": "stream",
     "text": [
      "220\n"
     ]
    }
   ],
   "source": [
    "\n",
    "val = [60, 100, 120]\n",
    "wt = [10, 20, 30]\n",
    "W = 50\n",
    "n = len(val)\n",
    "print(knapSack(W, wt, val, n))"
   ]
  },
  {
   "cell_type": "code",
   "execution_count": null,
   "metadata": {},
   "outputs": [],
   "source": []
  }
 ],
 "metadata": {
  "kernelspec": {
   "display_name": "Python 3.10.7 ('algorithm': venv)",
   "language": "python",
   "name": "python3"
  },
  "language_info": {
   "codemirror_mode": {
    "name": "ipython",
    "version": 3
   },
   "file_extension": ".py",
   "mimetype": "text/x-python",
   "name": "python",
   "nbconvert_exporter": "python",
   "pygments_lexer": "ipython3",
   "version": "3.10.7"
  },
  "orig_nbformat": 4,
  "vscode": {
   "interpreter": {
    "hash": "db25b2998812f6e1f9bd0e1e570c275449dca291153e963c3b2d4bb3b5971da1"
   }
  }
 },
 "nbformat": 4,
 "nbformat_minor": 2
}
