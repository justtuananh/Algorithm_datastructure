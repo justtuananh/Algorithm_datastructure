{
 "cells": [
  {
   "cell_type": "code",
   "execution_count": 28,
   "metadata": {},
   "outputs": [],
   "source": [
    "def knapSack(W, wt, val, n):\n",
    "\tK = [[0 for x in range(W + 1)] for x in range(n + 1)]\n",
    "\n",
    "\tfor i in range(n + 1):\n",
    "\t\tfor w in range(W + 1):\n",
    "\t\t\tif i == 0 or w == 0:\n",
    "\t\t\t\tK[i][w] = 0\n",
    "\t\t\telif wt[i-1] <= w:\n",
    "\t\t\t\tK[i][w] = max(val[i-1]\n",
    "\t\t\t\t\t\t+ K[i-1][w-wt[i-1]],\n",
    "\t\t\t\t\t\t\tK[i-1][w])\n",
    "\t\t\telse:\n",
    "\t\t\t\tK[i][w] = K[i-1][w]\n",
    "\n",
    "\treturn K[n][W]\n"
   ]
  },
  {
   "cell_type": "code",
   "execution_count": 29,
   "metadata": {},
   "outputs": [
    {
     "name": "stdout",
     "output_type": "stream",
     "text": [
      "220\n"
     ]
    }
   ],
   "source": [
    "\n",
    "val = [60, 100, 120]\n",
    "wt = [10, 20, 30]\n",
    "W = 50\n",
    "n = len(val)\n",
    "print(knapSack(W, wt, val, n))"
   ]
  },
  {
   "cell_type": "code",
   "execution_count": 31,
   "metadata": {},
   "outputs": [
    {
     "name": "stdout",
     "output_type": "stream",
     "text": [
      "val: [265 125 996 527 320 369 123 156 985 733] \n",
      " wt: [29  8 73  0 40 36 16 11 54 88]\n",
      "1073\n"
     ]
    }
   ],
   "source": [
    "from numpy import random \n",
    "random.seed(10)\n",
    "val  = random.randint(1000, size=10)\n",
    "wt = random.randint(100, size = 10)\n",
    "print( f'val: {val} \\n wt: {wt}')\n",
    "W = 50\n",
    "n = len(val)\n",
    "print(knapSack(W, wt, val, n))"
   ]
  },
  {
   "cell_type": "code",
   "execution_count": null,
   "metadata": {},
   "outputs": [],
   "source": []
  }
 ],
 "metadata": {
  "kernelspec": {
   "display_name": "Python 3.10.7 ('algorithm': venv)",
   "language": "python",
   "name": "python3"
  },
  "language_info": {
   "codemirror_mode": {
    "name": "ipython",
    "version": 3
   },
   "file_extension": ".py",
   "mimetype": "text/x-python",
   "name": "python",
   "nbconvert_exporter": "python",
   "pygments_lexer": "ipython3",
   "version": "3.10.7"
  },
  "orig_nbformat": 4,
  "vscode": {
   "interpreter": {
    "hash": "db25b2998812f6e1f9bd0e1e570c275449dca291153e963c3b2d4bb3b5971da1"
   }
  }
 },
 "nbformat": 4,
 "nbformat_minor": 2
}
